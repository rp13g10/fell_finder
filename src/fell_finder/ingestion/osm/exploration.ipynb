{
 "cells": [
  {
   "cell_type": "markdown",
   "metadata": {},
   "source": [
    "# Notes\n",
    "\n",
    "* Bringing in data direct from .osm looks possible\n",
    "* Nodes are simple, edges need reconstructing from ways\n",
    "* Relations may contain additional required metadata\n",
    "* Need to look into the spec for .osm files in more detail to check for any potential blockers\n",
    "\n",
    "## Required Information\n",
    "\n",
    "### Nodes\n",
    "\n",
    "* id\n",
    "* lat\n",
    "* lon\n",
    "\n",
    "### Edges\n",
    "\n",
    "* src\n",
    "* dst\n",
    "* type\n",
    "* way_name\n",
    "* way_pos\n",
    "* TBC"
   ]
  },
  {
   "cell_type": "markdown",
   "metadata": {},
   "source": [
    "# Decompress .bz2 file"
   ]
  },
  {
   "cell_type": "code",
   "execution_count": 1,
   "metadata": {},
   "outputs": [],
   "source": [
    "source_folder = \"/home/ross/repos/fell_finder/data/extracts/osm\"\n",
    "source_file = \"/home/ross/repos/fell_finder/data/extracts/osm/hampshire-latest.osm.bz2\"\n",
    "\n",
    "target_file = source_file[:-4]"
   ]
  },
  {
   "cell_type": "code",
   "execution_count": 28,
   "metadata": {},
   "outputs": [],
   "source": [
    "import bz2"
   ]
  },
  {
   "cell_type": "code",
   "execution_count": 29,
   "metadata": {},
   "outputs": [],
   "source": [
    "with open(source_file, 'rb') as fobj:\n",
    "    data = bz2.open(fobj).read().decode('utf8')"
   ]
  },
  {
   "cell_type": "code",
   "execution_count": null,
   "metadata": {},
   "outputs": [],
   "source": [
    "with open(target_file, 'w') as fobj:\n",
    "    fobj.write(data)"
   ]
  },
  {
   "cell_type": "code",
   "execution_count": null,
   "metadata": {},
   "outputs": [
    {
     "name": "stdout",
     "output_type": "stream",
     "text": [
      "<?xml version='1.0' encoding='UTF-8'?>\n",
      "<osm version=\"0.6\" generator=\"osmium/1.14.0\">\n",
      "  <bounds minlat=\"50.69041\" minlon=\"-1.959101\" maxlat=\"51.38712\" maxlon=\"-0.726306\"/>\n",
      "  <node id=\"132647\" version=\"1\" timestamp=\"2007-02-11T17:49:32Z\" lat=\"50.7689062\" lon=\"-1.8071861\"/>\n",
      "  <node id=\"132648\" version=\"1\" timestamp=\"2007-02-11T17:49:11Z\" lat=\"50.771157\" lon=\"-1.8065046\"/>\n",
      "  <node id=\"132649\" version=\"1\" timestamp=\"2005-07-18T10:07:30Z\" lat=\"50.7749443\" lon=\"-1.8077408\"/>\n",
      "  <node id=\"132652\" version=\"1\" timestamp=\"2006-09-02T12:06:26Z\" lat=\"50.7825406\" lon=\"-1.811734\"/>\n",
      "  <node id=\"132653\" version=\"1\" timestamp=\"2007-02-11T17:49:23Z\" lat=\"50.78739\" lon=\"-1.8139438\"/>\n",
      "  <node id=\"132654\" version=\"1\" timestamp=\"2007-02-11T17:49:33Z\" lat=\"50.7922247\" lon=\"-1.8146951\"/>\n",
      "  <node id=\"132655\" version=\"1\" timestamp=\"2007-02-11T17:49:17Z\" lat=\"50.800057\" lon=\"-1.8156341\"/>\n",
      "  <node id=\"132656\" version=\"2\" timestamp=\"2022-01-21T14:45:45Z\" lat=\"50.8031635\" lon=\"-1.8152223\"/>\n",
      "  <node id=\"132657\" version=\"1\" timestamp=\"2007-02-11T17:49:20Z\" lat=\"50.8083122\" lon=\"-1.8136004\"/>\n",
      "  <node id=\"132668\" version=\"4\" timestamp=\"2012-11-18T20:53:08Z\" lat=\"50.8477963\" lon=\"-1.7955631\"/>\n",
      "  <node id=\"132669\" version=\"5\" timestamp=\"2014-07-21T17:40:22Z\" lat=\"50.8499635\" lon=\"-1.7891668\"/>\n",
      "  <node id=\"132670\" version=\"3\" timestamp=\"2013-09-15T20:41:35Z\" lat=\"50.8493097\" lon=\"-1.7812382\"/>\n",
      "  <node id=\"132671\" version=\"3\" timestamp=\"2014-07-21T17:40:22Z\" lat=\"50.8487946\" lon=\"-1.7715905\"/>\n",
      "  <node id=\"132672\" version=\"3\" timestamp=\"2011-06-04T18:48:10Z\" lat=\"50.8497742\" lon=\"-1.7621948\"/>\n",
      "  <node id=\"132673\" version=\"3\" timestamp=\"2014-07-21T17:40:22Z\" lat=\"50.8506094\" lon=\"-1.7536007\"/>\n",
      "  <node id=\"132674\" version=\"3\" timestamp=\"2011-06-04T18:48:10Z\" lat=\"50.8511728\" lon=\"-1.7437525\"/>\n",
      "  <node id=\"132675\" version=\"3\" timestamp=\"2011-06-04T18:48:10Z\" lat=\"50.8512231\" lon=\"-1.7388665\"/>\n",
      "  <node id=\"132676\" version=\"2\" timestamp=\"2014-07-21T17:50:55Z\" lat=\"50.8528575\" lon=\"-1.7331033\"/>\n",
      "  <node id=\"132677\" version=\"2\" timestamp=\"2011-06-04T18:42:09Z\" lat=\"50.8574281\" lon=\"-1.7243987\"/>\n",
      "  <node id=\"132679\" version=\"4\" timestamp=\"2012-03-27T21:26:16Z\" lat=\"50.8681777\" lon=\"-1.7025002\">\n",
      "    <tag k=\"odbl\" v=\"clean\"/>\n",
      "  </node>\n",
      "  <node id=\"132680\" version=\"3\" timestamp=\"2011-06-04T18:42:09Z\" lat=\"50.871778\" lon=\"-1.6961913\"/>\n",
      "  <node id=\"132681\" version=\"3\" timestamp=\"2016-03-25T17:14:13Z\" lat=\"50.8945463\" lon=\"-1.6611691\"/>\n",
      "  <node id=\"132682\" version=\"3\" timestamp=\"2016-03-25T17:14:13Z\" lat=\"50.8858767\" lon=\"-1.6681716\"/>\n",
      "  <node id=\"132683\" version=\"4\" timestamp=\"2019-08-18T13:49:40Z\" lat=\"50.8840913\" lon=\"-1.671875\"/>\n",
      "  <node id=\"132684\" version=\"3\" timestamp=\"2019-08-18T13:49:40Z\" lat=\"50.8810022\" lon=\"-1.6809325\"/>\n",
      "  <node id=\"132685\" version=\"3\" timestamp=\"2011-06-04T18:42:10Z\" lat=\"50.8785723\" lon=\"-1.6867196\"/>\n",
      "  <node id=\"132686\" version=\"3\" timestamp=\"2016-03-25T17:14:13Z\" lat=\"50.8978995\" lon=\"-1.6531332\"/>\n",
      "  <node id=\"132687\" version=\"1\" timestamp=\"2006-09-02T11:18:43Z\" lat=\"50.9005669\" lon=\"-1.6439968\"/>\n",
      "  <node id=\"132688\" version=\"6\" timestamp=\"2021-03-04T14:31:33Z\" lat=\"50.9041143\" lon=\"-1.63572\"/>\n",
      "  <node id=\"132689\" version=\"3\" timestamp=\"2011-06-04T18:22:29Z\" lat=\"50.9055632\" lon=\"-1.6321884\"/>\n",
      "  <node id=\"132690\" version=\"5\" timestamp=\"2014-08-13T22:56:02Z\" lat=\"50.9067106\" lon=\"-1.6188308\"/>\n",
      "  <node id=\"132691\" version=\"1\" timestamp=\"2006-10-22T21:45:58Z\" lat=\"50.908523\" lon=\"-1.6100716\"/>\n",
      "  <node id=\"132692\" version=\"4\" timestamp=\"2018-07-06T15:07:40Z\" lat=\"50.9120352\" lon=\"-1.6035413\"/>\n",
      "  <node id=\"132694\" version=\"1\" timestamp=\"2006-11-11T17:22:56Z\" lat=\"50.9216081\" lon=\"-1.5878422\"/>\n",
      "  <node id=\"132695\" version=\"3\" timestamp=\"2012-02-25T15:59:28Z\" lat=\"50.9245412\" lon=\"-1.5805789\"/>\n",
      "  <node id=\"132696\" version=\"2\" timestamp=\"2012-02-25T15:59:28Z\" lat=\"50.9275837\" lon=\"-1.5761213\"/>\n",
      "  <node id=\"132698\" version=\"2\" timestamp=\"2018-07-06T15:07:40Z\" lat=\"50.9336061\" lon=\"-1.5619157\"/>\n",
      "  <node id=\"132699\" version=\"2\" timestamp=\"2018-07-06T15:07:40Z\" lat=\"50.9377777\" lon=\"-1.5550734\"/>\n",
      "  <node id=\"132701\" version=\"7\" timestamp=\"2020-09-02T21:44:28Z\" lat=\"50.9452341\" lon=\"-1.5368019\">\n",
      "    <tag k=\"highway\" v=\"motorway_junction\"/>\n",
      "    <tag k=\"name\" v=\"Ower\"/>\n",
      "    <tag k=\"ref\" v=\"2\"/>\n",
      "  </node>\n",
      "  <node id=\"132702\" version=\"6\" timestamp=\"2023-05-14T17:06:12Z\" lat=\"50.9459752\" lon=\"-1.5288762\"/>\n",
      "  <node id=\"132703\" version=\"3\" timestamp=\"2019-08-18T14:00:22Z\" lat=\"50.9463359\" lon=\"-1.5168702\"/>\n",
      "  <node id=\"132704\" version=\"3\" timestamp=\"2019-08-18T14:00:22Z\" lat=\"50.9461549\" lon=\"-1.5059211\"/>\n",
      "  <node id=\"132706\" version=\"8\" timestamp=\"2011-05-14T11:45:29Z\" lat=\"50.945193\" lon=\"-1.486517\"/>\n",
      "  <node id=\"132707\" version=\"5\" timestamp=\"2011-05-14T11:45:29Z\" lat=\"50.9454657\" lon=\"-1.4775675\"/>\n",
      "  <node id=\"132708\" version=\"1\" timestamp=\"2006-11-11T17:58:16Z\" lat=\"50.9474216\" lon=\"-1.4709162\"/>\n",
      "  <node id=\"132709\" version=\"1\" timestamp=\"2006-11-11T17:21:36Z\" lat=\"50.9507933\" lon=\"-1.4643494\"/>\n",
      "  <node id=\"132710\" version=\"1\" timestamp=\"2006-11-11T17:24:45Z\" lat=\"50.9533581\" lon=\"-1.4594265\"/>\n",
      "  <node id=\"132711\" version=\"2\" timestamp=\"2010-09-15T18:46:17Z\" lat=\"50.9565492\" lon=\"-1.4517232\"/>\n",
      "  <node id=\"132712\" version=\"3\" timestamp=\"2012-08-22T21:53:51Z\" lat=\"50.9588334\" lon=\"-1.4417025\"/>\n",
      "  <node id=\"132727\" version=\"4\" timestamp=\"2012-08-03T10:52:23Z\" lat=\"51.0275751\" lon=\"-1.3284413\"/>\n",
      "  <node id=\"132762\" version=\"5\" timestamp=\"2011-11-14T00:35:56Z\" lat=\"51.0267792\" lon=\"-0.9172146\"/>\n",
      "  <node id=\"132763\" version=\"4\" timestamp=\"2011-11-14T00:35:56Z\" lat=\"51.0311629\" lon=\"-0.9090838\"/>\n",
      "  <node id=\"132766\" version=\"3\" timestamp=\"2011-11-21T17:34:30Z\" lat=\"51.0468089\" lon=\"-0.9026661\"/>\n",
      "  <node id=\"132768\" version=\"4\" timestamp=\"2015-01-10T18:44:06Z\" lat=\"51.0691926\" lon=\"-0.8837137\"/>\n",
      "  <node id=\"132769\" version=\"5\" timestamp=\"2015-01-10T18:44:07Z\" lat=\"51.0739181\" lon=\"-0.8738716\"/>\n",
      "  <node id=\"132770\" version=\"5\" timestamp=\"2015-01-10T18:44:09Z\" lat=\"51.0751284\" lon=\"-0.8610168\"/>\n",
      "  <node id=\"132771\" version=\"5\" timestamp=\"2015-01-10T18:44:09Z\" lat=\"51.0772686\" lon=\"-0.8454332\"/>\n",
      "  <node id=\"132772\" version=\"5\" timestamp=\"2015-01-10T18:56:10Z\" lat=\"51.0805191\" lon=\"-0.8337448\"/>\n",
      "  <node id=\"132774\" version=\"5\" timestamp=\"2014-11-08T18:38:24Z\" lat=\"51.0834841\" lon=\"-0.8135512\"/>\n",
      "  <node id=\"132775\" version=\"5\" timestamp=\"2014-11-08T18:35:25Z\" lat=\"51.0853143\" lon=\"-0.8019514\"/>\n",
      "  <node id=\"132776\" version=\"7\" timestamp=\"2013-10-27T20:11:22Z\" lat=\"51.0873136\" lon=\"-0.7896484\"/>\n",
      "  <node id=\"132777\" version=\"4\" timestamp=\"2013-10-27T20:11:22Z\" lat=\"51.0923821\" lon=\"-0.7697221\"/>\n",
      "  <node id=\"132779\" version=\"14\" timestamp=\"2019-09-20T10:52:41Z\" lat=\"51.1006055\" lon=\"-0.7529177\"/>\n",
      "  <node id=\"134443\" version=\"3\" timestamp=\"2012-11-19T09:39:05Z\" lat=\"51.3059628\" lon=\"-1.8101455\"/>\n",
      "  <node id=\"134444\" version=\"2\" timestamp=\"2008-11-03T16:28:51Z\" lat=\"51.304368\" lon=\"-1.8108016\"/>\n",
      "  <node id=\"163535\" version=\"1\" timestamp=\"2006-12-04T08:24:57Z\" lat=\"50.7985905\" lon=\"-1.1069654\"/>\n",
      "  <node id=\"163536\" version=\"8\" timestamp=\"2012-05-24T15:25:51Z\" lat=\"50.7974885\" lon=\"-1.1058234\"/>\n",
      "  <node id=\"163538\" version=\"6\" timestamp=\"2017-03-18T12:35:12Z\" lat=\"50.7958887\" lon=\"-1.1031024\"/>\n",
      "  <node id=\"163540\" version=\"10\" timestamp=\"2013-12-18T16:13:34Z\" lat=\"50.79282\" lon=\"-1.0997391\"/>\n",
      "  <node id=\"163541\" version=\"5\" timestamp=\"2013-12-18T16:13:34Z\" lat=\"50.792572\" lon=\"-1.0998085\"/>\n",
      "  <node id=\"163542\" version=\"2\" timestamp=\"2017-03-18T13:27:07Z\" lat=\"50.7990969\" lon=\"-1.1068627\"/>\n",
      "  <node id=\"163544\" version=\"11\" timestamp=\"2021-10-18T16:02:24Z\" lat=\"50.7999047\" lon=\"-1.0970592\"/>\n",
      "  <node id=\"163545\" version=\"11\" timestamp=\"2013-12-18T16:13:34Z\" lat=\"50.7927429\" lon=\"-1.0993166\"/>\n",
      "  <node id=\"163546\" version=\"11\" timestamp=\"2013-12-18T16:13:34Z\" lat=\"50.7928465\" lon=\"-1.099502\"/>\n",
      "  <node id=\"163547\" version=\"3\" timestamp=\"2012-01-09T16:05:03Z\" lat=\"50.7941092\" lon=\"-1.0982892\"/>\n",
      "  <node id=\"163548\" version=\"3\" timestamp=\"2012-03-21T14:44:53Z\" lat=\"50.7946788\" lon=\"-1.0966273\"/>\n",
      "  <node id=\"163550\" version=\"4\" timestamp=\"2012-05-24T16:38:04Z\" lat=\"50.7919802\" lon=\"-1.1042747\"/>\n",
      "  <node id=\"163552\" version=\"11\" timestamp=\"2013-12-18T16:13:34Z\" lat=\"50.7920701\" lon=\"-1.100233\"/>\n",
      "  <node id=\"163554\" version=\"8\" timestamp=\"2017-03-28T20:56:33Z\" lat=\"50.8014965\" lon=\"-1.0935337\"/>\n",
      "  <node id=\"163555\" version=\"3\" timestamp=\"2015-05-16T09:37:14Z\" lat=\"50.8021103\" lon=\"-1.0929068\"/>\n",
      "  <node id=\"163557\" version=\"5\" timestamp=\"2012-01-09T16:05:03Z\" lat=\"50.8000303\" lon=\"-1.0954367\">\n",
      "    <tag k=\"highway\" v=\"traffic_signals\"/>\n",
      "  </node>\n",
      "  <node id=\"163558\" version=\"4\" timestamp=\"2012-01-09T16:05:03Z\" lat=\"50.8002238\" lon=\"-1.0955179\">\n",
      "    <tag k=\"highway\" v=\"traffic_signals\"/>\n",
      "  </node>\n",
      "  <node id=\"163561\" version=\"3\" timestamp=\"2015-05-16T09:37:14Z\" lat=\"50.802989\" lon=\"-1.091547\"/>\n",
      "  <node id=\"163563\" version=\"6\" timestamp=\"2020-11-15T21:17:14Z\" lat=\"50.8031851\" lon=\"-1.0873645\"/>\n",
      "  <node id=\"163565\" version=\"3\" timestamp=\"2022-09-05T12:07:37Z\" lat=\"50.8033619\" lon=\"-1.0907542\"/>\n",
      "  <node id=\"163566\" version=\"3\" timestamp=\"2022-09-05T12:07:37Z\" lat=\"50.8042199\" lon=\"-1.0902635\"/>\n",
      "  <node id=\"163567\" version=\"2\" timestamp=\"2012-01-10T16:49:19Z\" lat=\"50.8048754\" lon=\"-1.0892698\"/>\n",
      "  <node id=\"163568\" version=\"3\" timestamp=\"2022-07-15T23:34:35Z\" lat=\"50.8056079\" lon=\"-1.0877951\">\n",
      "    <tag k=\"crossing\" v=\"traffic_signals\"/>\n",
      "    <tag k=\"highway\" v=\"crossing\"/>\n",
      "  </node>\n",
      "  <node id=\"163569\" version=\"9\" timestamp=\"2020-11-15T21:17:14Z\" lat=\"50.805882\" lon=\"-1.087675\"/>\n",
      "  <node id=\"163570\" version=\"1\" timestamp=\"2006-10-26T23:20:27Z\" lat=\"50.807099\" lon=\"-1.0880651\"/>\n",
      "  <node id=\"163571\" version=\"2\" timestamp=\"2022-07-15T23:34:35Z\" lat=\"50.808157\" lon=\"-1.0877299\"/>\n",
      "  <node id=\"163572\" version=\"2\" timestamp=\"2013-10-07T13:50:27Z\" lat=\"50.8092478\" lon=\"-1.0870725\"/>\n",
      "  <node id=\"163573\" version=\"5\" timestamp=\"2012-01-10T16:49:19Z\" lat=\"50.8048777\" lon=\"-1.0868837\">\n",
      "    <tag k=\"crossing\" v=\"controlled\"/>\n",
      "    <tag k=\"highway\" v=\"traffic_signals\"/>\n",
      "  </node>\n",
      "  <node id=\"163575\" ver\n"
     ]
    }
   ],
   "source": [
    "print(data[:10000])"
   ]
  },
  {
   "cell_type": "markdown",
   "metadata": {},
   "source": [
    "# Read into element tree"
   ]
  },
  {
   "cell_type": "code",
   "execution_count": 3,
   "metadata": {},
   "outputs": [],
   "source": [
    "from xml.etree.ElementTree import ElementTree"
   ]
  },
  {
   "cell_type": "code",
   "execution_count": 4,
   "metadata": {},
   "outputs": [],
   "source": [
    "tree = ElementTree(file=target_file)"
   ]
  },
  {
   "cell_type": "code",
   "execution_count": 6,
   "metadata": {},
   "outputs": [],
   "source": [
    "root = tree.getroot()"
   ]
  },
  {
   "cell_type": "markdown",
   "metadata": {},
   "source": [
    "## Extract node details"
   ]
  },
  {
   "cell_type": "code",
   "execution_count": 37,
   "metadata": {},
   "outputs": [
    {
     "data": {
      "text/plain": [
       "5322080"
      ]
     },
     "execution_count": 37,
     "metadata": {},
     "output_type": "execute_result"
    }
   ],
   "source": [
    "all_nodes = root.findall('node')\n",
    "len(all_nodes)"
   ]
  },
  {
   "cell_type": "code",
   "execution_count": 19,
   "metadata": {},
   "outputs": [
    {
     "data": {
      "text/plain": [
       "'node'"
      ]
     },
     "execution_count": 19,
     "metadata": {},
     "output_type": "execute_result"
    }
   ],
   "source": [
    "all_nodes[0].tag"
   ]
  },
  {
   "cell_type": "code",
   "execution_count": 20,
   "metadata": {},
   "outputs": [
    {
     "data": {
      "text/plain": [
       "{'id': '132647',\n",
       " 'version': '1',\n",
       " 'timestamp': '2007-02-11T17:49:32Z',\n",
       " 'lat': '50.7689062',\n",
       " 'lon': '-1.8071861'}"
      ]
     },
     "execution_count": 20,
     "metadata": {},
     "output_type": "execute_result"
    }
   ],
   "source": [
    "all_nodes[0].attrib"
   ]
  },
  {
   "cell_type": "markdown",
   "metadata": {},
   "source": [
    "## Extract way details"
   ]
  },
  {
   "cell_type": "code",
   "execution_count": 36,
   "metadata": {},
   "outputs": [
    {
     "data": {
      "text/plain": [
       "781612"
      ]
     },
     "execution_count": 36,
     "metadata": {},
     "output_type": "execute_result"
    }
   ],
   "source": [
    "all_ways = root.findall('way')\n",
    "len(all_ways)"
   ]
  },
  {
   "cell_type": "code",
   "execution_count": 31,
   "metadata": {},
   "outputs": [
    {
     "data": {
      "text/plain": [
       "{'id': '130', 'version': '16', 'timestamp': '2021-02-26T22:24:10Z'}"
      ]
     },
     "execution_count": 31,
     "metadata": {},
     "output_type": "execute_result"
    }
   ],
   "source": [
    "all_ways[0].attrib"
   ]
  },
  {
   "cell_type": "code",
   "execution_count": 33,
   "metadata": {},
   "outputs": [
    {
     "name": "stdout",
     "output_type": "stream",
     "text": [
      "nd {'ref': '630299'}\n",
      "nd {'ref': '2058592714'}\n",
      "nd {'ref': '630302'}\n",
      "nd {'ref': '2058592713'}\n",
      "nd {'ref': '2058592712'}\n",
      "nd {'ref': '630303'}\n",
      "nd {'ref': '3077175482'}\n",
      "nd {'ref': '630291'}\n",
      "nd {'ref': '2058592711'}\n",
      "nd {'ref': '8462451968'}\n",
      "nd {'ref': '25504336'}\n",
      "nd {'ref': '8462451970'}\n",
      "nd {'ref': '8462451957'}\n",
      "nd {'ref': '25504337'}\n",
      "nd {'ref': '25504338'}\n",
      "nd {'ref': '25504339'}\n",
      "nd {'ref': '8462451951'}\n",
      "nd {'ref': '25504340'}\n",
      "nd {'ref': '8462451949'}\n",
      "nd {'ref': '1365953'}\n",
      "tag {'k': 'bicycle', 'v': 'designated'}\n",
      "tag {'k': 'designation', 'v': 'public_bridleway'}\n",
      "tag {'k': 'foot', 'v': 'designated'}\n",
      "tag {'k': 'highway', 'v': 'bridleway'}\n",
      "tag {'k': 'lit', 'v': 'no'}\n",
      "tag {'k': 'name', 'v': 'Castle Lane'}\n",
      "tag {'k': 'source', 'v': 'survey'}\n",
      "tag {'k': 'source:name', 'v': 'OS_OpenData_StreetView'}\n",
      "tag {'k': 'surface', 'v': 'unpaved'}\n"
     ]
    }
   ],
   "source": [
    "for item in all_ways[0]:\n",
    "    print(item.tag, item.attrib)"
   ]
  },
  {
   "cell_type": "markdown",
   "metadata": {},
   "source": [
    "## Examine relations"
   ]
  },
  {
   "cell_type": "code",
   "execution_count": 35,
   "metadata": {},
   "outputs": [
    {
     "data": {
      "text/plain": [
       "7712"
      ]
     },
     "execution_count": 35,
     "metadata": {},
     "output_type": "execute_result"
    }
   ],
   "source": [
    "all_relations = root.findall('relation')\n",
    "len(all_relations)"
   ]
  },
  {
   "cell_type": "code",
   "execution_count": 39,
   "metadata": {},
   "outputs": [
    {
     "data": {
      "text/plain": [
       "{'id': '2197', 'version': '22', 'timestamp': '2022-10-10T13:28:30Z'}"
      ]
     },
     "execution_count": 39,
     "metadata": {},
     "output_type": "execute_result"
    }
   ],
   "source": [
    "all_relations[0].attrib"
   ]
  },
  {
   "cell_type": "code",
   "execution_count": 40,
   "metadata": {},
   "outputs": [
    {
     "name": "stdout",
     "output_type": "stream",
     "text": [
      "member {'type': 'way', 'ref': '8584816', 'role': ''}\n",
      "member {'type': 'way', 'ref': '58793897', 'role': ''}\n",
      "member {'type': 'way', 'ref': '170869257', 'role': ''}\n",
      "member {'type': 'way', 'ref': '58793901', 'role': ''}\n",
      "member {'type': 'way', 'ref': '215102514', 'role': ''}\n",
      "member {'type': 'way', 'ref': '215102515', 'role': ''}\n",
      "member {'type': 'way', 'ref': '215102513', 'role': ''}\n",
      "member {'type': 'way', 'ref': '215102516', 'role': ''}\n",
      "member {'type': 'way', 'ref': '215102512', 'role': ''}\n",
      "member {'type': 'way', 'ref': '895507581', 'role': ''}\n",
      "member {'type': 'way', 'ref': '1102615019', 'role': ''}\n",
      "tag {'k': 'name', 'v': 'Winchester Road'}\n",
      "tag {'k': 'ref', 'v': 'B2177'}\n",
      "tag {'k': 'route', 'v': 'road'}\n",
      "tag {'k': 'type', 'v': 'route'}\n"
     ]
    }
   ],
   "source": [
    "for item in all_relations[0]:\n",
    "    print(item.tag, item.attrib)"
   ]
  },
  {
   "cell_type": "code",
   "execution_count": 41,
   "metadata": {},
   "outputs": [
    {
     "data": {
      "text/plain": [
       "[]"
      ]
     },
     "execution_count": 41,
     "metadata": {},
     "output_type": "execute_result"
    }
   ],
   "source": [
    "all_relations[0][0]"
   ]
  },
  {
   "cell_type": "code",
   "execution_count": null,
   "metadata": {},
   "outputs": [],
   "source": []
  }
 ],
 "metadata": {
  "kernelspec": {
   "display_name": "fell_finder",
   "language": "python",
   "name": "python3"
  },
  "language_info": {
   "codemirror_mode": {
    "name": "ipython",
    "version": 3
   },
   "file_extension": ".py",
   "mimetype": "text/x-python",
   "name": "python",
   "nbconvert_exporter": "python",
   "pygments_lexer": "ipython3",
   "version": "3.12.2"
  }
 },
 "nbformat": 4,
 "nbformat_minor": 2
}
